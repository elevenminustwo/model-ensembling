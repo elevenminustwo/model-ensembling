{
  "nbformat": 4,
  "nbformat_minor": 0,
  "metadata": {
    "accelerator": "GPU",
    "colab": {
      "name": "parallel-multi-model.ipynb",
      "provenance": [],
      "collapsed_sections": []
    },
    "kernelspec": {
      "display_name": "Python 3",
      "name": "python3"
    },
    "language_info": {
      "name": "python"
    }
  },
  "cells": [
    {
      "cell_type": "code",
      "metadata": {
        "id": "EXpStbnLk0ZU"
      },
      "source": [
        "import os.path\n",
        "import tensorflow as tf\n",
        "import pickle as pkl\n",
        "import numpy as np\n",
        "\n",
        "from tensorflow import keras\n",
        "from tensorflow.keras.utils import plot_model\n",
        "from keras.models import Model,Sequential\n",
        "from keras.layers import Input,Dense, Flatten, Conv2D, MaxPooling2D, BatchNormalization,Dropout\n",
        "from keras.losses import sparse_categorical_crossentropy\n",
        "from keras.layers.merge import concatenate\n",
        "from keras.optimizers import SGD\n",
        "from matplotlib import pyplot as plt\n",
        "from sklearn.ensemble import VotingClassifier"
      ],
      "execution_count": 1,
      "outputs": []
    },
    {
      "cell_type": "code",
      "metadata": {
        "colab": {
          "base_uri": "https://localhost:8080/"
        },
        "id": "gusodIgSmyCb",
        "outputId": "ec1af88c-8e74-4858-99df-0b69c8419ecb"
      },
      "source": [
        "device_name = tf.test.gpu_device_name()\n",
        "if device_name != '/device:GPU:0':\n",
        "  print('GPU device not found')\n",
        "else:\n",
        "  print('Found GPU at: {}'.format(device_name))"
      ],
      "execution_count": 2,
      "outputs": [
        {
          "output_type": "stream",
          "text": [
            "Found GPU at: /device:GPU:0\n"
          ],
          "name": "stdout"
        }
      ]
    },
    {
      "cell_type": "code",
      "metadata": {
        "id": "jgf_dddLlRcS"
      },
      "source": [
        "no_classes = 10\n",
        "img_width, img_height, img_num_channels = 32, 32, 3"
      ],
      "execution_count": 3,
      "outputs": []
    },
    {
      "cell_type": "code",
      "metadata": {
        "id": "_qzBW4esmoiE",
        "colab": {
          "base_uri": "https://localhost:8080/"
        },
        "outputId": "c27666bd-5cb3-4b87-f683-efede7eaff6a"
      },
      "source": [
        "(input_train, target_train), (input_test, target_test) = keras.datasets.cifar10.load_data()"
      ],
      "execution_count": 4,
      "outputs": [
        {
          "output_type": "stream",
          "text": [
            "Downloading data from https://www.cs.toronto.edu/~kriz/cifar-10-python.tar.gz\n",
            "170500096/170498071 [==============================] - 4s 0us/step\n"
          ],
          "name": "stdout"
        }
      ]
    },
    {
      "cell_type": "code",
      "metadata": {
        "id": "-dZ8aLY5mwZ5"
      },
      "source": [
        "# Determine shape of the data\n",
        "input_shape = (img_width, img_height, img_num_channels)\n",
        "\n",
        "# Parse numbers as floats\n",
        "input_train = input_train.astype('float32')\n",
        "input_test = input_test.astype('float32')\n",
        "\n",
        "# Normalize data\n",
        "input_train = input_train / 255\n",
        "input_test = input_test / 255\n"
      ],
      "execution_count": 5,
      "outputs": []
    },
    {
      "cell_type": "code",
      "metadata": {
        "id": "FtQz32CLNq4H",
        "colab": {
          "base_uri": "https://localhost:8080/"
        },
        "outputId": "9ba1c471-522c-488b-cc0f-d48d254046cb"
      },
      "source": [
        "modelseq = Sequential()\n",
        "modelseq.add(Conv2D(32, (3, 3), activation='relu', kernel_initializer='he_uniform', padding='same', input_shape=input_shape))\n",
        "modelseq.add(Conv2D(32, (3, 3), activation='relu', kernel_initializer='he_uniform', padding='same'))\n",
        "modelseq.add(MaxPooling2D((2, 2)))\n",
        "modelseq.add(Dropout(0.2))\n",
        "modelseq.add(Conv2D(64, (3, 3), activation='relu', kernel_initializer='he_uniform', padding='same'))\n",
        "modelseq.add(Conv2D(64, (3, 3), activation='relu', kernel_initializer='he_uniform', padding='same'))\n",
        "modelseq.add(MaxPooling2D((2, 2)))\n",
        "modelseq.add(Dropout(0.2))\n",
        "modelseq.add(Conv2D(128, (3, 3), activation='relu', kernel_initializer='he_uniform', padding='same'))\n",
        "modelseq.add(Conv2D(128, (3, 3), activation='relu', kernel_initializer='he_uniform', padding='same'))\n",
        "modelseq.add(MaxPooling2D((2, 2)))\n",
        "modelseq.add(Dropout(0.2))\n",
        "modelseq.add(Flatten())\n",
        "modelseq.add(Dense(128, activation='relu', kernel_initializer='he_uniform'))\n",
        "modelseq.add(Dropout(0.2))\n",
        "modelseq.add(Dense(10, activation='softmax'))\n",
        "# compile model\n",
        "opt = SGD(lr=0.001, momentum=0.9)\n",
        "modelseq.compile(optimizer=opt, loss='sparse_categorical_crossentropy', metrics=['accuracy'])\n",
        "# summarize layers\n",
        "print(modelseq.summary())\n",
        "# plot graph\n",
        "#plot_model(modelseq, to_file='modelseq.png')"
      ],
      "execution_count": 6,
      "outputs": [
        {
          "output_type": "stream",
          "text": [
            "Model: \"sequential\"\n",
            "_________________________________________________________________\n",
            "Layer (type)                 Output Shape              Param #   \n",
            "=================================================================\n",
            "conv2d (Conv2D)              (None, 32, 32, 32)        896       \n",
            "_________________________________________________________________\n",
            "conv2d_1 (Conv2D)            (None, 32, 32, 32)        9248      \n",
            "_________________________________________________________________\n",
            "max_pooling2d (MaxPooling2D) (None, 16, 16, 32)        0         \n",
            "_________________________________________________________________\n",
            "dropout (Dropout)            (None, 16, 16, 32)        0         \n",
            "_________________________________________________________________\n",
            "conv2d_2 (Conv2D)            (None, 16, 16, 64)        18496     \n",
            "_________________________________________________________________\n",
            "conv2d_3 (Conv2D)            (None, 16, 16, 64)        36928     \n",
            "_________________________________________________________________\n",
            "max_pooling2d_1 (MaxPooling2 (None, 8, 8, 64)          0         \n",
            "_________________________________________________________________\n",
            "dropout_1 (Dropout)          (None, 8, 8, 64)          0         \n",
            "_________________________________________________________________\n",
            "conv2d_4 (Conv2D)            (None, 8, 8, 128)         73856     \n",
            "_________________________________________________________________\n",
            "conv2d_5 (Conv2D)            (None, 8, 8, 128)         147584    \n",
            "_________________________________________________________________\n",
            "max_pooling2d_2 (MaxPooling2 (None, 4, 4, 128)         0         \n",
            "_________________________________________________________________\n",
            "dropout_2 (Dropout)          (None, 4, 4, 128)         0         \n",
            "_________________________________________________________________\n",
            "flatten (Flatten)            (None, 2048)              0         \n",
            "_________________________________________________________________\n",
            "dense (Dense)                (None, 128)               262272    \n",
            "_________________________________________________________________\n",
            "dropout_3 (Dropout)          (None, 128)               0         \n",
            "_________________________________________________________________\n",
            "dense_1 (Dense)              (None, 10)                1290      \n",
            "=================================================================\n",
            "Total params: 550,570\n",
            "Trainable params: 550,570\n",
            "Non-trainable params: 0\n",
            "_________________________________________________________________\n",
            "None\n"
          ],
          "name": "stdout"
        },
        {
          "output_type": "stream",
          "text": [
            "/usr/local/lib/python3.7/dist-packages/tensorflow/python/keras/optimizer_v2/optimizer_v2.py:375: UserWarning: The `lr` argument is deprecated, use `learning_rate` instead.\n",
            "  \"The `lr` argument is deprecated, use `learning_rate` instead.\")\n"
          ],
          "name": "stderr"
        }
      ]
    },
    {
      "cell_type": "code",
      "metadata": {
        "id": "EpNJ7JSOn45y",
        "colab": {
          "base_uri": "https://localhost:8080/"
        },
        "outputId": "4a53c4c4-24f0-4b56-8dbe-404944991c24"
      },
      "source": [
        "# first model\n",
        "model2 = Sequential()\n",
        "model2.add(Conv2D(32, (3, 3), activation='relu', kernel_initializer='he_uniform', padding='same', input_shape=input_shape))\n",
        "model2.add(Conv2D(32, (3, 3), activation='relu', kernel_initializer='he_uniform', padding='same'))\n",
        "model2.add(BatchNormalization())\n",
        "model2.add(MaxPooling2D((2, 2)))\n",
        "model2.add(Dropout(0.2))\n",
        "model2.add(Conv2D(64, (3, 3), activation='relu', kernel_initializer='he_uniform', padding='same'))\n",
        "model2.add(Conv2D(64, (3, 3), activation='relu', kernel_initializer='he_uniform', padding='same'))\n",
        "model2.add(BatchNormalization())\n",
        "model2.add(MaxPooling2D((2, 2)))\n",
        "model2.add(Dropout(0.2))\n",
        "model2.add(Conv2D(128, (3, 3), activation='relu', kernel_initializer='he_uniform', padding='same'))\n",
        "model2.add(Conv2D(128, (3, 3), activation='relu', kernel_initializer='he_uniform', padding='same'))\n",
        "model2.add(BatchNormalization())\n",
        "model2.add(MaxPooling2D((2, 2)))\n",
        "model2.add(Dropout(0.2))\n",
        "model2.add(Flatten())\n",
        "model2.add(Dense(128, activation='relu', kernel_initializer='he_uniform'))\n",
        "model2.add(Dropout(0.2))\n",
        "model2.add(Dense(10, activation='softmax'))\n",
        "\n",
        "# second model\n",
        "model3 = Sequential()\n",
        "model3.add(Conv2D(32, (3, 3), activation='relu', kernel_initializer='he_uniform', padding='same', input_shape=input_shape))\n",
        "model3.add(BatchNormalization())\n",
        "model3.add(MaxPooling2D((2, 2)))\n",
        "model3.add(Dropout(0.2))\n",
        "model3.add(Conv2D(64, (3, 3), activation='relu', kernel_initializer='he_uniform', padding='same'))\n",
        "model3.add(BatchNormalization())\n",
        "model3.add(MaxPooling2D((2, 2)))\n",
        "model3.add(Dropout(0.2))\n",
        "model3.add(Conv2D(128, (3, 3), activation='relu', kernel_initializer='he_uniform', padding='same'))\n",
        "model3.add(BatchNormalization())\n",
        "model3.add(MaxPooling2D((2, 2)))\n",
        "model3.add(Dropout(0.2))\n",
        "model3.add(Flatten())\n",
        "model3.add(Dense(128, activation='relu', kernel_initializer='he_uniform'))\n",
        "model3.add(Dropout(0.2))\n",
        "model3.add(Dense(10, activation='softmax'))\n",
        "\n",
        "# third model\n",
        "model4 = Sequential()\n",
        "model4.add(Conv2D(32, (3, 3), activation='relu', kernel_initializer='he_uniform', padding='same', input_shape=input_shape))\n",
        "model4.add(BatchNormalization())\n",
        "model4.add(Dropout(0.2))\n",
        "model4.add(Conv2D(64, (3, 3), activation='relu', kernel_initializer='he_uniform', padding='same'))\n",
        "model4.add(BatchNormalization())\n",
        "model4.add(Dropout(0.2))\n",
        "model4.add(Conv2D(128, (3, 3), activation='relu', kernel_initializer='he_uniform', padding='same'))\n",
        "model4.add(BatchNormalization())\n",
        "model4.add(Dropout(0.2))\n",
        "model4.add(Flatten())\n",
        "model4.add(Dense(128, activation='relu', kernel_initializer='he_uniform'))\n",
        "model4.add(Dropout(0.2))\n",
        "model4.add(Dense(10, activation='softmax'))\n",
        "\n",
        "\n",
        "opt = keras.optimizers.Adam(learning_rate=0.001)\n",
        "opt2 = keras.optimizers.Adam(learning_rate=0.01)\n",
        "opt3 = SGD(lr=0.001, momentum=0.9)\n",
        "model2.compile(optimizer=opt, loss='sparse_categorical_crossentropy', metrics=['accuracy'])\n",
        "model3.compile(optimizer=opt2, loss='sparse_categorical_crossentropy', metrics=['accuracy'])\n",
        "model4.compile(optimizer=opt3, loss='sparse_categorical_crossentropy', metrics=['accuracy'])\n",
        "\n",
        "# summarize layers\n",
        "print(model2.summary())\n",
        "print(model3.summary())\n",
        "print(model4.summary())\n",
        "# plot graph\n",
        "#plot_model(model2, to_file='model2.png')\n",
        "#plot_model(model3, to_file='model3.png')\n",
        "#plot_model(model4, to_file='model4.png')"
      ],
      "execution_count": 7,
      "outputs": [
        {
          "output_type": "stream",
          "text": [
            "Model: \"sequential_1\"\n",
            "_________________________________________________________________\n",
            "Layer (type)                 Output Shape              Param #   \n",
            "=================================================================\n",
            "conv2d_6 (Conv2D)            (None, 32, 32, 32)        896       \n",
            "_________________________________________________________________\n",
            "conv2d_7 (Conv2D)            (None, 32, 32, 32)        9248      \n",
            "_________________________________________________________________\n",
            "batch_normalization (BatchNo (None, 32, 32, 32)        128       \n",
            "_________________________________________________________________\n",
            "max_pooling2d_3 (MaxPooling2 (None, 16, 16, 32)        0         \n",
            "_________________________________________________________________\n",
            "dropout_4 (Dropout)          (None, 16, 16, 32)        0         \n",
            "_________________________________________________________________\n",
            "conv2d_8 (Conv2D)            (None, 16, 16, 64)        18496     \n",
            "_________________________________________________________________\n",
            "conv2d_9 (Conv2D)            (None, 16, 16, 64)        36928     \n",
            "_________________________________________________________________\n",
            "batch_normalization_1 (Batch (None, 16, 16, 64)        256       \n",
            "_________________________________________________________________\n",
            "max_pooling2d_4 (MaxPooling2 (None, 8, 8, 64)          0         \n",
            "_________________________________________________________________\n",
            "dropout_5 (Dropout)          (None, 8, 8, 64)          0         \n",
            "_________________________________________________________________\n",
            "conv2d_10 (Conv2D)           (None, 8, 8, 128)         73856     \n",
            "_________________________________________________________________\n",
            "conv2d_11 (Conv2D)           (None, 8, 8, 128)         147584    \n",
            "_________________________________________________________________\n",
            "batch_normalization_2 (Batch (None, 8, 8, 128)         512       \n",
            "_________________________________________________________________\n",
            "max_pooling2d_5 (MaxPooling2 (None, 4, 4, 128)         0         \n",
            "_________________________________________________________________\n",
            "dropout_6 (Dropout)          (None, 4, 4, 128)         0         \n",
            "_________________________________________________________________\n",
            "flatten_1 (Flatten)          (None, 2048)              0         \n",
            "_________________________________________________________________\n",
            "dense_2 (Dense)              (None, 128)               262272    \n",
            "_________________________________________________________________\n",
            "dropout_7 (Dropout)          (None, 128)               0         \n",
            "_________________________________________________________________\n",
            "dense_3 (Dense)              (None, 10)                1290      \n",
            "=================================================================\n",
            "Total params: 551,466\n",
            "Trainable params: 551,018\n",
            "Non-trainable params: 448\n",
            "_________________________________________________________________\n",
            "None\n",
            "Model: \"sequential_2\"\n",
            "_________________________________________________________________\n",
            "Layer (type)                 Output Shape              Param #   \n",
            "=================================================================\n",
            "conv2d_12 (Conv2D)           (None, 32, 32, 32)        896       \n",
            "_________________________________________________________________\n",
            "batch_normalization_3 (Batch (None, 32, 32, 32)        128       \n",
            "_________________________________________________________________\n",
            "max_pooling2d_6 (MaxPooling2 (None, 16, 16, 32)        0         \n",
            "_________________________________________________________________\n",
            "dropout_8 (Dropout)          (None, 16, 16, 32)        0         \n",
            "_________________________________________________________________\n",
            "conv2d_13 (Conv2D)           (None, 16, 16, 64)        18496     \n",
            "_________________________________________________________________\n",
            "batch_normalization_4 (Batch (None, 16, 16, 64)        256       \n",
            "_________________________________________________________________\n",
            "max_pooling2d_7 (MaxPooling2 (None, 8, 8, 64)          0         \n",
            "_________________________________________________________________\n",
            "dropout_9 (Dropout)          (None, 8, 8, 64)          0         \n",
            "_________________________________________________________________\n",
            "conv2d_14 (Conv2D)           (None, 8, 8, 128)         73856     \n",
            "_________________________________________________________________\n",
            "batch_normalization_5 (Batch (None, 8, 8, 128)         512       \n",
            "_________________________________________________________________\n",
            "max_pooling2d_8 (MaxPooling2 (None, 4, 4, 128)         0         \n",
            "_________________________________________________________________\n",
            "dropout_10 (Dropout)         (None, 4, 4, 128)         0         \n",
            "_________________________________________________________________\n",
            "flatten_2 (Flatten)          (None, 2048)              0         \n",
            "_________________________________________________________________\n",
            "dense_4 (Dense)              (None, 128)               262272    \n",
            "_________________________________________________________________\n",
            "dropout_11 (Dropout)         (None, 128)               0         \n",
            "_________________________________________________________________\n",
            "dense_5 (Dense)              (None, 10)                1290      \n",
            "=================================================================\n",
            "Total params: 357,706\n",
            "Trainable params: 357,258\n",
            "Non-trainable params: 448\n",
            "_________________________________________________________________\n",
            "None\n",
            "Model: \"sequential_3\"\n",
            "_________________________________________________________________\n",
            "Layer (type)                 Output Shape              Param #   \n",
            "=================================================================\n",
            "conv2d_15 (Conv2D)           (None, 32, 32, 32)        896       \n",
            "_________________________________________________________________\n",
            "batch_normalization_6 (Batch (None, 32, 32, 32)        128       \n",
            "_________________________________________________________________\n",
            "dropout_12 (Dropout)         (None, 32, 32, 32)        0         \n",
            "_________________________________________________________________\n",
            "conv2d_16 (Conv2D)           (None, 32, 32, 64)        18496     \n",
            "_________________________________________________________________\n",
            "batch_normalization_7 (Batch (None, 32, 32, 64)        256       \n",
            "_________________________________________________________________\n",
            "dropout_13 (Dropout)         (None, 32, 32, 64)        0         \n",
            "_________________________________________________________________\n",
            "conv2d_17 (Conv2D)           (None, 32, 32, 128)       73856     \n",
            "_________________________________________________________________\n",
            "batch_normalization_8 (Batch (None, 32, 32, 128)       512       \n",
            "_________________________________________________________________\n",
            "dropout_14 (Dropout)         (None, 32, 32, 128)       0         \n",
            "_________________________________________________________________\n",
            "flatten_3 (Flatten)          (None, 131072)            0         \n",
            "_________________________________________________________________\n",
            "dense_6 (Dense)              (None, 128)               16777344  \n",
            "_________________________________________________________________\n",
            "dropout_15 (Dropout)         (None, 128)               0         \n",
            "_________________________________________________________________\n",
            "dense_7 (Dense)              (None, 10)                1290      \n",
            "=================================================================\n",
            "Total params: 16,872,778\n",
            "Trainable params: 16,872,330\n",
            "Non-trainable params: 448\n",
            "_________________________________________________________________\n",
            "None\n"
          ],
          "name": "stdout"
        },
        {
          "output_type": "stream",
          "text": [
            "/usr/local/lib/python3.7/dist-packages/tensorflow/python/keras/optimizer_v2/optimizer_v2.py:375: UserWarning: The `lr` argument is deprecated, use `learning_rate` instead.\n",
            "  \"The `lr` argument is deprecated, use `learning_rate` instead.\")\n"
          ],
          "name": "stderr"
        }
      ]
    },
    {
      "cell_type": "code",
      "metadata": {
        "colab": {
          "base_uri": "https://localhost:8080/",
          "height": 53
        },
        "id": "5gbmz0lroPj6",
        "outputId": "eec0a674-732c-4074-cf4d-81603d273760"
      },
      "source": [
        "\"\"\"\n",
        "history = modelseq.fit(input_train, target_train,\n",
        "            batch_size=64,\n",
        "            epochs=25,\n",
        "            verbose=1,\n",
        "            validation_split=0.2)\n",
        "\"\"\""
      ],
      "execution_count": 8,
      "outputs": [
        {
          "output_type": "execute_result",
          "data": {
            "application/vnd.google.colaboratory.intrinsic+json": {
              "type": "string"
            },
            "text/plain": [
              "'\\nhistory = modelseq.fit(input_train, target_train,\\n            batch_size=64,\\n            epochs=25,\\n            verbose=1,\\n            validation_split=0.2)\\n'"
            ]
          },
          "metadata": {
            "tags": []
          },
          "execution_count": 8
        }
      ]
    },
    {
      "cell_type": "code",
      "metadata": {
        "id": "LHwXFrlURgzK",
        "colab": {
          "base_uri": "https://localhost:8080/",
          "height": 53
        },
        "outputId": "d0683124-04e5-4dc6-993e-9898ee3b2ef8"
      },
      "source": [
        "\"\"\"\n",
        "history2 = model2.fit(input_train, target_train,\n",
        "            batch_size=64,\n",
        "            epochs=10,\n",
        "            verbose=1,\n",
        "            validation_split=0.2)\n",
        "\"\"\""
      ],
      "execution_count": 9,
      "outputs": [
        {
          "output_type": "execute_result",
          "data": {
            "application/vnd.google.colaboratory.intrinsic+json": {
              "type": "string"
            },
            "text/plain": [
              "'\\nhistory2 = model2.fit(input_train, target_train,\\n            batch_size=64,\\n            epochs=10,\\n            verbose=1,\\n            validation_split=0.2)\\n'"
            ]
          },
          "metadata": {
            "tags": []
          },
          "execution_count": 9
        }
      ]
    },
    {
      "cell_type": "code",
      "metadata": {
        "id": "bz373YVqRj-E",
        "colab": {
          "base_uri": "https://localhost:8080/",
          "height": 53
        },
        "outputId": "45f09ea4-2e25-4a5c-826d-fc102278f05a"
      },
      "source": [
        "\"\"\"\n",
        "history3 = model3.fit(input_train, target_train,\n",
        "            batch_size=64,\n",
        "            epochs=10,\n",
        "            verbose=1,\n",
        "            validation_split=0.2)\n",
        "\"\"\""
      ],
      "execution_count": 10,
      "outputs": [
        {
          "output_type": "execute_result",
          "data": {
            "application/vnd.google.colaboratory.intrinsic+json": {
              "type": "string"
            },
            "text/plain": [
              "'\\nhistory3 = model3.fit(input_train, target_train,\\n            batch_size=64,\\n            epochs=10,\\n            verbose=1,\\n            validation_split=0.2)\\n'"
            ]
          },
          "metadata": {
            "tags": []
          },
          "execution_count": 10
        }
      ]
    },
    {
      "cell_type": "code",
      "metadata": {
        "id": "Xbp-L5zURmfH",
        "colab": {
          "base_uri": "https://localhost:8080/",
          "height": 53
        },
        "outputId": "d40c32e3-a421-441f-d78f-665021ad5489"
      },
      "source": [
        "\"\"\"\n",
        "history4 = model4.fit(input_train, target_train,\n",
        "            batch_size=64,\n",
        "            epochs=10,\n",
        "            verbose=1,\n",
        "            validation_split=0.2)\n",
        "\"\"\""
      ],
      "execution_count": 11,
      "outputs": [
        {
          "output_type": "execute_result",
          "data": {
            "application/vnd.google.colaboratory.intrinsic+json": {
              "type": "string"
            },
            "text/plain": [
              "'\\nhistory4 = model4.fit(input_train, target_train,\\n            batch_size=64,\\n            epochs=10,\\n            verbose=1,\\n            validation_split=0.2)\\n'"
            ]
          },
          "metadata": {
            "tags": []
          },
          "execution_count": 11
        }
      ]
    },
    {
      "cell_type": "code",
      "metadata": {
        "id": "OkQkkLRuo7_4",
        "colab": {
          "base_uri": "https://localhost:8080/",
          "height": 157
        },
        "outputId": "14e54e5a-0d91-4aa8-d14e-6706f8e9968b"
      },
      "source": [
        "\"\"\"\n",
        "# Generate generalization metrics\n",
        "score = modelseq.evaluate(input_test, target_test, verbose=0)\n",
        "score2 = model2.evaluate(input_test, target_test, verbose=0)\n",
        "score3 = model3.evaluate(input_test, target_test, verbose=0)\n",
        "score4 = model4.evaluate(input_test, target_test, verbose=0)\n",
        "print(f'Test loss: {score[0]} / Test accuracy: {score[1]}')\n",
        "print(f'Test loss: {score2[0]} / Test accuracy: {score2[1]}')\n",
        "print(f'Test loss: {score3[0]} / Test accuracy: {score3[1]}')\n",
        "print(f'Test loss: {score4[0]} / Test accuracy: {score4[1]}')\n",
        "\n",
        "# Visualize history\n",
        "# Plot history: Loss\n",
        "plt.plot(history.history['accuracy'],label = 'train_1')\n",
        "plt.plot(history.history['val_accuracy'],label = 'test_1')\n",
        "plt.plot(history2.history['accuracy'],label = 'train_2')\n",
        "plt.plot(history2.history['val_accuracy'],label = 'test_2')\n",
        "plt.plot(history3.history['accuracy'],label = 'train_3')\n",
        "plt.plot(history3.history['val_accuracy'],label = 'test_3')\n",
        "plt.plot(history4.history['accuracy'],label = 'train_4')\n",
        "plt.plot(history4.history['val_accuracy'],label = 'test_4')\n",
        "plt.legend()\n",
        "plt.show()\n",
        "\"\"\""
      ],
      "execution_count": 12,
      "outputs": [
        {
          "output_type": "execute_result",
          "data": {
            "application/vnd.google.colaboratory.intrinsic+json": {
              "type": "string"
            },
            "text/plain": [
              "\"\\n# Generate generalization metrics\\nscore = modelseq.evaluate(input_test, target_test, verbose=0)\\nscore2 = model2.evaluate(input_test, target_test, verbose=0)\\nscore3 = model3.evaluate(input_test, target_test, verbose=0)\\nscore4 = model4.evaluate(input_test, target_test, verbose=0)\\nprint(f'Test loss: {score[0]} / Test accuracy: {score[1]}')\\nprint(f'Test loss: {score2[0]} / Test accuracy: {score2[1]}')\\nprint(f'Test loss: {score3[0]} / Test accuracy: {score3[1]}')\\nprint(f'Test loss: {score4[0]} / Test accuracy: {score4[1]}')\\n\\n# Visualize history\\n# Plot history: Loss\\nplt.plot(history.history['accuracy'],label = 'train_1')\\nplt.plot(history.history['val_accuracy'],label = 'test_1')\\nplt.plot(history2.history['accuracy'],label = 'train_2')\\nplt.plot(history2.history['val_accuracy'],label = 'test_2')\\nplt.plot(history3.history['accuracy'],label = 'train_3')\\nplt.plot(history3.history['val_accuracy'],label = 'test_3')\\nplt.plot(history4.history['accuracy'],label = 'train_4')\\nplt.plot(history4.history['val_accuracy'],label = 'test_4')\\nplt.legend()\\nplt.show()\\n\""
            ]
          },
          "metadata": {
            "tags": []
          },
          "execution_count": 12
        }
      ]
    },
    {
      "cell_type": "code",
      "metadata": {
        "id": "7v51PvLXxtp4",
        "colab": {
          "base_uri": "https://localhost:8080/",
          "height": 53
        },
        "outputId": "a04bd01c-fed6-449c-e54a-8c0f9127e61b"
      },
      "source": [
        "\"\"\"\n",
        "#print(input_test[1])\n",
        "single = np.expand_dims(input_test[250], axis=0)\n",
        "prediction1 = modelseq.predict(input_test)\n",
        "prediction2 = model2.predict(input_test)\n",
        "prediction3 = model3.predict(input_test)\n",
        "prediction4 = model4.predict(input_test)\n",
        "\"\"\""
      ],
      "execution_count": 13,
      "outputs": [
        {
          "output_type": "execute_result",
          "data": {
            "application/vnd.google.colaboratory.intrinsic+json": {
              "type": "string"
            },
            "text/plain": [
              "'\\n#print(input_test[1])\\nsingle = np.expand_dims(input_test[250], axis=0)\\nprediction1 = modelseq.predict(input_test)\\nprediction2 = model2.predict(input_test)\\nprediction3 = model3.predict(input_test)\\nprediction4 = model4.predict(input_test)\\n'"
            ]
          },
          "metadata": {
            "tags": []
          },
          "execution_count": 13
        }
      ]
    },
    {
      "cell_type": "code",
      "metadata": {
        "id": "beb9unGMs5Tw"
      },
      "source": [
        "scores = list()\n",
        "scores.append(0.7398999929428101)\n",
        "scores.append(0.794700026512146)\n",
        "scores.append(0.6926000118255615)\n",
        "scores.append(0.6664000153541565)\n",
        "\n",
        "\n",
        "keras_clf = tf.keras.wrappers.scikit_learn.KerasClassifier(build_fn = lambda:\n",
        "                            modelseq,\n",
        "                            epochs=25,\n",
        "                            verbose=False)\n",
        "\n",
        "keras_clf2 = tf.keras.wrappers.scikit_learn.KerasClassifier(build_fn = lambda:\n",
        "                            model2,\n",
        "                            epochs=10,\n",
        "                            verbose=False)\n",
        "keras_clf3 = tf.keras.wrappers.scikit_learn.KerasClassifier(build_fn = lambda:\n",
        "                            model3,\n",
        "                            epochs=10,\n",
        "                            verbose=False)\n",
        "keras_clf4 = tf.keras.wrappers.scikit_learn.KerasClassifier(build_fn = lambda:\n",
        "                            model4,\n",
        "                            epochs=10,\n",
        "                            verbose=False)\n",
        "\n",
        "keras_clf._estimator_type = \"classifier\"\n",
        "keras_clf2._estimator_type = \"classifier\"\n",
        "keras_clf3._estimator_type = \"classifier\"\n",
        "keras_clf4._estimator_type = \"classifier\"\n",
        "\n",
        "models = list()\t\n",
        "models.append(('m1', keras_clf))\n",
        "models.append(('m2', keras_clf2))\n",
        "models.append(('m3', keras_clf3))\n",
        "models.append(('m4', keras_clf4))\n",
        "\n",
        "# create the ensemble\n",
        "ensemble = VotingClassifier(estimators=models, voting='soft', weights=scores)\n",
        "# fit the ensemble on the training dataset\n",
        "ensemble.fit(input_train,target_train.ravel())\n",
        "# make predictions on test set\n",
        "yhat = ensemble.predict(input_test)"
      ],
      "execution_count": 14,
      "outputs": []
    },
    {
      "cell_type": "code",
      "metadata": {
        "id": "MSPy9iNl4-7A",
        "colab": {
          "base_uri": "https://localhost:8080/"
        },
        "outputId": "1ea2ff79-ac18-43f6-88dd-8e1d72ec4212"
      },
      "source": [
        "# evaluate predictions\n",
        "score = np.mean(yhat==np.squeeze(target_test))\n",
        "print(scores)\n",
        "print('Weighted Avg Accuracy: %.3f' % (score*100))"
      ],
      "execution_count": 15,
      "outputs": [
        {
          "output_type": "stream",
          "text": [
            "[0.7398999929428101, 0.794700026512146, 0.6926000118255615, 0.6664000153541565]\n",
            "Weighted Avg Accuracy: 81.540\n"
          ],
          "name": "stdout"
        }
      ]
    }
  ]
}